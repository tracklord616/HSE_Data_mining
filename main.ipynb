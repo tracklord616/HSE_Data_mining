{
 "cells": [
  {
   "cell_type": "markdown",
   "metadata": {},
   "source": [
    "## lab 3\n",
    "### Supervised learning"
   ]
  },
  {
   "cell_type": "markdown",
   "metadata": {},
   "source": [
    "Для начала импортируем все библиотеки(по ходу исследования я вспомню, что нужны ешё и метрики, поэтому заранее извините за импорты не в начале программы)"
   ]
  },
  {
   "cell_type": "code",
   "execution_count": 30,
   "metadata": {},
   "outputs": [],
   "source": [
    "import pandas as pd\n",
    "import numpy as np\n",
    "import matplotlib.pyplot as plt\n",
    "from sklearn.ensemble import AdaBoostRegressor\n",
    "from sklearn.tree import DecisionTreeRegressor"
   ]
  },
  {
   "cell_type": "markdown",
   "metadata": {},
   "source": [
    "Затем загрузим наш датасет и посмотрим на него"
   ]
  },
  {
   "cell_type": "code",
   "execution_count": 3,
   "metadata": {},
   "outputs": [],
   "source": [
    "data = pd.read_csv(\"students_data.csv\")"
   ]
  },
  {
   "cell_type": "code",
   "execution_count": 4,
   "metadata": {},
   "outputs": [
    {
     "name": "stdout",
     "output_type": "stream",
     "text": [
      "       ID Subject school sex  age address famsize Pstatus Medu Fedu  ...  \\\n",
      "0  100097     Por     GP   F   16       U     GT3       A    3    4  ...   \n",
      "1  101021     Por     GP   F   17       U     GT3       T    3    2  ...   \n",
      "2  102965     Por     GP   M   16       U     LE3       T    1    2  ...   \n",
      "3  102989     Por     MS   M   17       U     GT3       T    2    3  ...   \n",
      "4  103131     Por     GP   F   16       U     GT3       T    1    1  ...   \n",
      "\n",
      "  freetime goout Dalc Walc  health  absences  cheating  G1  G2  G3  \n",
      "0        2     1  1.0  4.0       5        12       NaN  15  13  14  \n",
      "1        3     4  1.0  3.0       3         2       NaN  17  18  17  \n",
      "2        4     5  3.0  5.0       5         0       yes   9   8  10  \n",
      "3        4     3  1.0  1.0       3         4        no  14  15  16  \n",
      "4        3     2  1.0  4.0       5         2       yes  12  13  13  \n",
      "\n",
      "[5 rows x 36 columns]\n"
     ]
    }
   ],
   "source": [
    "print(data.head())"
   ]
  },
  {
   "cell_type": "code",
   "execution_count": 5,
   "metadata": {},
   "outputs": [
    {
     "name": "stdout",
     "output_type": "stream",
     "text": [
      "ID Числовые данные\n",
      "Subject Категориальные данные\n",
      "school Категориальные данные\n",
      "sex Категориальные данные\n",
      "age Числовые данные\n",
      "address Категориальные данные\n",
      "famsize Категориальные данные\n",
      "Pstatus Категориальные данные\n",
      "Medu Категориальные данные\n",
      "Fedu Категориальные данные\n",
      "Mjob Категориальные данные\n",
      "Fjob Категориальные данные\n",
      "reason Категориальные данные\n",
      "guardian Категориальные данные\n",
      "traveltime Упорядоченные категориальные данные\n",
      "studytime Упорядоченные категориальные данные\n",
      "failures Упорядоченные категориальные данные\n",
      "schoolsup Категориальные данные\n",
      "famsup Категориальные данные\n",
      "paid Категориальные данные\n",
      "activities Категориальные данные\n",
      "nursery Категориальные данные\n",
      "higher Категориальные данные\n",
      "internet Категориальные данные\n",
      "romantic Категориальные данные\n",
      "famrel Упорядоченные категориальные данные\n",
      "freetime Упорядоченные категориальные данные\n",
      "goout Упорядоченные категориальные данные\n",
      "Dalc Упорядоченные категориальные данные\n",
      "Walc Упорядоченные категориальные данные\n",
      "health Упорядоченные категориальные данные\n",
      "absences Числовые данные\n",
      "cheating Числовые данные\n",
      "G1 Числовые данные\n",
      "G2 Числовые данные\n",
      "G3 Числовые данные\n",
      "<class 'pandas.core.frame.DataFrame'>\n",
      "RangeIndex: 1044 entries, 0 to 1043\n",
      "Data columns (total 36 columns):\n",
      "ID            1044 non-null int64\n",
      "Subject       1044 non-null object\n",
      "school        1044 non-null object\n",
      "sex           1044 non-null object\n",
      "age           1044 non-null int64\n",
      "address       1044 non-null object\n",
      "famsize       1044 non-null object\n",
      "Pstatus       1044 non-null object\n",
      "Medu          1044 non-null object\n",
      "Fedu          1044 non-null object\n",
      "Mjob          1044 non-null object\n",
      "Fjob          1044 non-null object\n",
      "reason        1044 non-null object\n",
      "guardian      1044 non-null object\n",
      "traveltime    1044 non-null int64\n",
      "studytime     1044 non-null int64\n",
      "failures      1044 non-null int64\n",
      "schoolsup     1044 non-null object\n",
      "famsup        1044 non-null object\n",
      "paid          1044 non-null object\n",
      "activities    1044 non-null object\n",
      "nursery       1044 non-null object\n",
      "higher        1044 non-null object\n",
      "internet      1044 non-null object\n",
      "romantic      1034 non-null object\n",
      "famrel        1034 non-null float64\n",
      "freetime      1044 non-null int64\n",
      "goout         1044 non-null int64\n",
      "Dalc          1034 non-null float64\n",
      "Walc          1034 non-null float64\n",
      "health        1044 non-null int64\n",
      "absences      1044 non-null int64\n",
      "cheating      344 non-null object\n",
      "G1            1044 non-null int64\n",
      "G2            1044 non-null int64\n",
      "G3            1044 non-null int64\n",
      "dtypes: float64(3), int64(12), object(21)\n",
      "memory usage: 208.0+ KB\n"
     ]
    },
    {
     "data": {
      "text/plain": [
       "T    923\n",
       "A    121\n",
       "Name: Pstatus, dtype: int64"
      ]
     },
     "execution_count": 5,
     "metadata": {},
     "output_type": "execute_result"
    }
   ],
   "source": [
    "data['Medu'] = data['Medu'].replace('o', '0')\n",
    "data['Fedu'] = data['Fedu'].replace('o', '0')\n",
    "data['sex'] = data['sex'].replace('m', 'M')\n",
    "data['guardian'] = data['guardian'].replace('futher', 'father')\n",
    "data['Fjob'] = data['Fjob'].replace('at-home', 'at_home')\n",
    "data['Mjob'] = data['Mjob'].replace('at-home', 'at_home')\n",
    "data['Pstatus'] = data['Pstatus'].replace('t', 'T')\n",
    "data['famrel'] = data['famrel'].replace('3.93617', '4')  \n",
    "data['Dalc'] = data['Dalc'].replace('1.497099', '1')\n",
    "data['Walc'] = data['Walc'].replace('2.291103', '2')\n",
    "\n",
    "#Затем распределим признаки по виду данных\n",
    "for column in data:\n",
    "    if type(data[column][0]) == str:\n",
    "        print(column + ' ' + 'Категориальные данные')\n",
    "    else:\n",
    "        if data[column][0] <= 5 and data[column][0] >= 0:\n",
    "            print(column + ' ' + 'Упорядоченные категориальные данные')\n",
    "        else:\n",
    "            print(column + ' ' + 'Числовые данные')\n",
    "data.info()\n",
    "data[:10]\n",
    "data['Pstatus'].value_counts()"
   ]
  },
  {
   "cell_type": "markdown",
   "metadata": {},
   "source": [
    "Здесь происходит приведение категориальных признаков к числовым"
   ]
  },
  {
   "cell_type": "code",
   "execution_count": 6,
   "metadata": {},
   "outputs": [],
   "source": [
    "data1 = data.drop('ID', axis=1)"
   ]
  },
  {
   "cell_type": "code",
   "execution_count": 7,
   "metadata": {},
   "outputs": [],
   "source": [
    "data1['sex'].replace(['M','F'], [1, 0], inplace=True)\n",
    "data1['school'].replace(['GP', 'MS'], [1, 0], inplace=True)\n",
    "data1['Subject'].replace(['Por','Math'], [1, 0], inplace=True)\n",
    "data1['Pstatus'].replace(['T', 'A'], [1, 0], inplace=True)\n",
    "data1.replace(['yes', 'no'], [1, 0], inplace=True)\n",
    "data1['guardian'].replace(['father', 'mother'], [1, 0], inplace=True)\n",
    "data1['famsize'].replace(['GT3', 'LE3'], [1, 0], inplace=True)\n",
    "data1['address'].replace(['U', 'R'], [1, 0], inplace=True)\n",
    "#или признаки, числовое упорядочивание которых может быть оправдано, например \n",
    "data1['Medu'] = data['Medu'].astype(int)\n",
    "data1['Fedu'] = data['Fedu'].astype(int)\n",
    "data1.replace(['teacher', 'health', 'services', 'at_home', 'other'], [1, 2, 3, 4, 0], inplace=True)\n",
    "data1.replace(['home', 'reputation', 'course'], [1, 2, 3], inplace=True)"
   ]
  },
  {
   "cell_type": "markdown",
   "metadata": {},
   "source": [
    "Далее я выбираю признаки, по которым буду смотроить модель. \n",
    "Для начала возьмем все, что нам доступны"
   ]
  },
  {
   "cell_type": "code",
   "execution_count": 8,
   "metadata": {},
   "outputs": [],
   "source": [
    "features_name = ['Subject', 'school', 'sex', 'age', 'address', 'famsize', 'Pstatus', 'Medu', 'Fedu', 'Mjob', 'Fjob',  'reason', 'guardian', 'traveltime', 'studytime', 'failures', 'schoolsup', 'famsup', 'paid', 'activities', 'nursery', 'higher', 'internet', 'romantic', 'famrel', 'freetime', 'goout', 'Dalc', 'Walc', 'health', 'absences', 'G1']\n",
    "features_name_G1 = ['Subject', 'school', 'sex', 'age', 'address', 'famsize', 'Pstatus', 'Medu', 'Fedu', 'Mjob', 'Fjob',  'reason', 'guardian', 'traveltime', 'studytime', 'failures', 'schoolsup', 'famsup', 'paid', 'activities', 'nursery', 'higher', 'internet', 'romantic', 'famrel', 'freetime', 'goout', 'Dalc', 'Walc', 'health', 'absences']"
   ]
  },
  {
   "cell_type": "markdown",
   "metadata": {},
   "source": [
    "Здесь заменяю пропуски медианами и удаляю 10 записей с пустыми romantic, потому что восстановить их по медиане не представляется возможным"
   ]
  },
  {
   "cell_type": "code",
   "execution_count": 9,
   "metadata": {},
   "outputs": [],
   "source": [
    "data1 = data1.fillna(data.median())\n",
    "data1 = data1.dropna()"
   ]
  },
  {
   "cell_type": "code",
   "execution_count": 10,
   "metadata": {},
   "outputs": [],
   "source": [
    "X = data1[features_name]\n",
    "y = data1['G3']\n",
    "X_modified = data1[features_name_G1]"
   ]
  },
  {
   "cell_type": "code",
   "execution_count": 11,
   "metadata": {},
   "outputs": [
    {
     "name": "stdout",
     "output_type": "stream",
     "text": [
      "    Subject  school  sex  age  address  famsize  Pstatus  Medu  Fedu  Mjob  \\\n",
      "2         1       1    1   16        1        0        1     1     2     2   \n",
      "3         1       0    1   17        1        1        1     2     3     0   \n",
      "8         0       1    0   15        1        0        1     3     2     3   \n",
      "11        1       1    1   18        1        0        1     3     4     3   \n",
      "13        1       1    1   15        1        1        1     4     3     1   \n",
      "\n",
      "    ...  internet  romantic  famrel  freetime  goout  Dalc  Walc  health  \\\n",
      "2   ...         1       0.0     4.0         4      5   3.0   5.0       5   \n",
      "3   ...         1       0.0     4.0         4      3   1.0   1.0       3   \n",
      "8   ...         1       0.0     4.0         4      4   1.0   1.0       5   \n",
      "11  ...         1       1.0     4.0         3      3   1.0   3.0       5   \n",
      "13  ...         1       0.0     4.0         3      3   2.0   3.0       5   \n",
      "\n",
      "    absences  G1  \n",
      "2          0   9  \n",
      "3          4  14  \n",
      "8         10   7  \n",
      "11         6  16  \n",
      "13         0  11  \n",
      "\n",
      "[5 rows x 32 columns]\n"
     ]
    }
   ],
   "source": [
    "print(X.head())"
   ]
  },
  {
   "cell_type": "code",
   "execution_count": 12,
   "metadata": {},
   "outputs": [
    {
     "name": "stdout",
     "output_type": "stream",
     "text": [
      "2     10\n",
      "3     16\n",
      "8      6\n",
      "11    17\n",
      "13    11\n",
      "Name: G3, dtype: int64\n"
     ]
    }
   ],
   "source": [
    "print(y.head())"
   ]
  },
  {
   "cell_type": "markdown",
   "metadata": {},
   "source": [
    "## задача регрессии"
   ]
  },
  {
   "cell_type": "markdown",
   "metadata": {},
   "source": [
    "Кросс-валидацию доверил библиотечной функции, потому что соотношение 80/20 нам вполне подходит"
   ]
  },
  {
   "cell_type": "code",
   "execution_count": 13,
   "metadata": {},
   "outputs": [],
   "source": [
    "from sklearn.model_selection import train_test_split"
   ]
  },
  {
   "cell_type": "code",
   "execution_count": 14,
   "metadata": {},
   "outputs": [],
   "source": [
    "train_X, val_X, train_y, val_y = train_test_split(X, y, random_state = 43)\n",
    "train_XG1, val_XG1, train_yG1, val_yG1 = train_test_split(X_modified, y, random_state = 43)"
   ]
  },
  {
   "cell_type": "code",
   "execution_count": 15,
   "metadata": {},
   "outputs": [],
   "source": [
    "svc = DecisionTreeRegressor(max_leaf_nodes=4, random_state=43)\n",
    "svc_tree = DecisionTreeRegressor(max_leaf_nodes=5, random_state=43)\n",
    "rfc = AdaBoostRegressor(base_estimator=svc, learning_rate=0.00001, random_state=43)\n",
    "rfc.fit(train_X, train_y)\n",
    "predict_ADA = rfc.predict(val_X)"
   ]
  },
  {
   "cell_type": "code",
   "execution_count": 16,
   "metadata": {},
   "outputs": [],
   "source": [
    "svcG1 = DecisionTreeRegressor(max_leaf_nodes=4, random_state=43)\n",
    "svcG1_tree = DecisionTreeRegressor(max_leaf_nodes=5, random_state=43)\n",
    "rfcG1 = AdaBoostRegressor(base_estimator=svc, learning_rate=0.00001, random_state=43)\n",
    "rfcG1.fit(train_XG1, train_yG1)\n",
    "predict_ADAG1 = rfcG1.predict(val_XG1)"
   ]
  },
  {
   "cell_type": "code",
   "execution_count": 17,
   "metadata": {},
   "outputs": [
    {
     "name": "stdout",
     "output_type": "stream",
     "text": [
      "0.7258872191846519\n",
      "0.2668605240270363\n"
     ]
    }
   ],
   "source": [
    "from sklearn.metrics import explained_variance_score\n",
    "print(explained_variance_score(val_y, predict_ADA))\n",
    "print(explained_variance_score(val_y, predict_ADAG1))"
   ]
  },
  {
   "cell_type": "code",
   "execution_count": 18,
   "metadata": {},
   "outputs": [
    {
     "name": "stdout",
     "output_type": "stream",
     "text": [
      "0.702221643702204\n",
      "0.2404098316733464\n"
     ]
    }
   ],
   "source": [
    "svc.fit(train_X, train_y)\n",
    "svc_tree.fit(train_X, train_y)\n",
    "predict_tree = svc_tree.predict(val_X)\n",
    "svcG1.fit(train_XG1, train_yG1)\n",
    "predict_treeG1 = svcG1.predict(val_XG1)\n",
    "print(explained_variance_score(val_y, predict_tree))\n",
    "print(explained_variance_score(val_y, predict_treeG1))"
   ]
  },
  {
   "cell_type": "markdown",
   "metadata": {},
   "source": [
    "Для первой модели выбрана Adaboost потому что она мне нравится, лернинг рейт выбирался из принципа ручного подбора, потому что включать цикл ради одного параметра очень нерационально, к тому же, очевидно, что глобальный минимум ошибки здесь ведет себя достаточно предсказуемо"
   ]
  },
  {
   "cell_type": "markdown",
   "metadata": {},
   "source": [
    "Сравнивалась эта модель с обычным деревом решений, как видно, при подборе параметров \"на глаз\" адабуст имеет небольшое преимущество"
   ]
  },
  {
   "cell_type": "markdown",
   "metadata": {},
   "source": [
    "Если не включать признак G1 для тренировки модели, то ее точность неприлично падает, но я считаю это закономерным."
   ]
  },
  {
   "cell_type": "markdown",
   "metadata": {},
   "source": [
    "По статистике, вероятность того, что ученик будет иметь сильно разную успеваемость в рамках дного учебного года, крайне мала, поэтому модель ставит большой вес при признаке G1"
   ]
  },
  {
   "cell_type": "code",
   "execution_count": 19,
   "metadata": {},
   "outputs": [],
   "source": [
    "from sklearn.linear_model import LogisticRegression\n",
    "svc_Log = LogisticRegression(random_state=43, solver='newton-cg', max_iter=100000, multi_class='multinomial').fit(train_X, train_y)\n",
    "predict_Log = svc_Log.predict(val_X)"
   ]
  },
  {
   "cell_type": "code",
   "execution_count": 20,
   "metadata": {},
   "outputs": [
    {
     "name": "stdout",
     "output_type": "stream",
     "text": [
      "0.3477561112147789\n"
     ]
    }
   ],
   "source": [
    "print(explained_variance_score(val_y, predict_Log))"
   ]
  },
  {
   "cell_type": "markdown",
   "metadata": {},
   "source": [
    "Как видно из метрики, логистическая регрессия без танцев с бубном показывает очень плохой результат"
   ]
  },
  {
   "cell_type": "markdown",
   "metadata": {},
   "source": [
    "## задача бинарной классификации"
   ]
  },
  {
   "cell_type": "markdown",
   "metadata": {},
   "source": [
    "Прежде всего, необходимо создать новый признак, основанный на признаке G3"
   ]
  },
  {
   "cell_type": "code",
   "execution_count": 21,
   "metadata": {},
   "outputs": [],
   "source": [
    "data1.loc[data1['G3'] >= 8, 'G_3'] = int(1)\n",
    "data1.loc[data1['G3'] < 8, 'G_3'] = int(0)"
   ]
  },
  {
   "cell_type": "code",
   "execution_count": 22,
   "metadata": {},
   "outputs": [
    {
     "name": "stdout",
     "output_type": "stream",
     "text": [
      "2     1.0\n",
      "3     1.0\n",
      "8     0.0\n",
      "11    1.0\n",
      "13    1.0\n",
      "Name: G_3, dtype: float64\n"
     ]
    }
   ],
   "source": [
    "print(data1['G_3'].head())"
   ]
  },
  {
   "cell_type": "markdown",
   "metadata": {},
   "source": [
    "Способ достаточно колхозный, но очень эффективный по времени:)"
   ]
  },
  {
   "cell_type": "code",
   "execution_count": 23,
   "metadata": {},
   "outputs": [],
   "source": [
    "from sklearn.ensemble import AdaBoostClassifier\n",
    "from sklearn.tree import DecisionTreeClassifier"
   ]
  },
  {
   "cell_type": "code",
   "execution_count": 24,
   "metadata": {},
   "outputs": [],
   "source": [
    "y_G_3 = data1['G_3']\n",
    "X_G_3 = data1[features_name_G1]\n",
    "train_XG3, val_XG3, train_yG3, val_yG3 = train_test_split(X_G_3, y_G_3, random_state = 43)"
   ]
  },
  {
   "cell_type": "code",
   "execution_count": 25,
   "metadata": {},
   "outputs": [],
   "source": [
    "svc_treeG3 = DecisionTreeClassifier(max_leaf_nodes=5, random_state=43)\n",
    "rfcG3 = AdaBoostClassifier(base_estimator=svc_treeG3, learning_rate=0.00001, random_state=43)\n",
    "rfcG3.fit(train_XG3, train_yG3)\n",
    "predict_ADAG3 = rfcG3.predict(val_XG3)"
   ]
  },
  {
   "cell_type": "code",
   "execution_count": 26,
   "metadata": {},
   "outputs": [
    {
     "name": "stdout",
     "output_type": "stream",
     "text": [
      "0.9529411764705882\n"
     ]
    }
   ],
   "source": [
    "from sklearn.metrics import f1_score\n",
    "print(f1_score(val_yG3, predict_ADAG3, average='micro'))"
   ]
  },
  {
   "cell_type": "markdown",
   "metadata": {},
   "source": [
    "С задачей бинарной классификации AdaBoost справляется очень хорошо даже без настройки гиперпараметров"
   ]
  },
  {
   "cell_type": "markdown",
   "metadata": {},
   "source": [
    "Для оценки модели используется взвешенная метрика f1_score, которая учитывает неравенство классов"
   ]
  },
  {
   "cell_type": "code",
   "execution_count": 27,
   "metadata": {
    "scrolled": true
   },
   "outputs": [
    {
     "name": "stdout",
     "output_type": "stream",
     "text": [
      "0.9294117647058824\n"
     ]
    }
   ],
   "source": [
    "svc_treeG3 = DecisionTreeClassifier(max_depth=5, random_state=43)\n",
    "svc_treeG3.fit(train_XG3, train_yG3)\n",
    "predict_svc_treeG3 = svc_treeG3.predict(val_XG3)\n",
    "print(f1_score(val_yG3, predict_svc_treeG3, average='micro'))"
   ]
  },
  {
   "cell_type": "markdown",
   "metadata": {},
   "source": [
    "Обычное дерево решений тоже показывает хорошие результаты"
   ]
  },
  {
   "cell_type": "code",
   "execution_count": 33,
   "metadata": {},
   "outputs": [
    {
     "data": {
      "text/plain": [
       "[Text(609.0669642857142, 747.4499999999999, 'X[15] <= 2.5\\ngini = 0.177\\nsamples = 254\\nvalue = [25, 229]'),\n",
       " Text(455.86607142857144, 611.55, 'X[0] <= 0.5\\ngini = 0.161\\nsamples = 249\\nvalue = [22, 227]'),\n",
       " Text(239.14285714285714, 475.65, 'X[10] <= 0.5\\ngini = 0.282\\nsamples = 94\\nvalue = [16, 78]'),\n",
       " Text(119.57142857142857, 339.74999999999994, 'X[2] <= 0.5\\ngini = 0.385\\nsamples = 50\\nvalue = [13, 37]'),\n",
       " Text(59.785714285714285, 203.8499999999999, 'X[30] <= 1.0\\ngini = 0.483\\nsamples = 27\\nvalue = [11, 16]'),\n",
       " Text(29.892857142857142, 67.94999999999993, 'gini = 0.245\\nsamples = 7\\nvalue = [6, 1]'),\n",
       " Text(89.67857142857143, 67.94999999999993, 'gini = 0.375\\nsamples = 20\\nvalue = [5, 15]'),\n",
       " Text(179.35714285714286, 203.8499999999999, 'X[1] <= 0.5\\ngini = 0.159\\nsamples = 23\\nvalue = [2, 21]'),\n",
       " Text(149.46428571428572, 67.94999999999993, 'gini = 0.444\\nsamples = 3\\nvalue = [2, 1]'),\n",
       " Text(209.25, 67.94999999999993, 'gini = 0.0\\nsamples = 20\\nvalue = [0, 20]'),\n",
       " Text(358.7142857142857, 339.74999999999994, 'X[27] <= 4.5\\ngini = 0.127\\nsamples = 44\\nvalue = [3, 41]'),\n",
       " Text(298.92857142857144, 203.8499999999999, 'X[15] <= 1.5\\ngini = 0.091\\nsamples = 42\\nvalue = [2, 40]'),\n",
       " Text(269.0357142857143, 67.94999999999993, 'gini = 0.05\\nsamples = 39\\nvalue = [1, 38]'),\n",
       " Text(328.82142857142856, 67.94999999999993, 'gini = 0.444\\nsamples = 3\\nvalue = [1, 2]'),\n",
       " Text(418.5, 203.8499999999999, 'X[11] <= 1.0\\ngini = 0.5\\nsamples = 2\\nvalue = [1, 1]'),\n",
       " Text(388.60714285714283, 67.94999999999993, 'gini = 0.0\\nsamples = 1\\nvalue = [1, 0]'),\n",
       " Text(448.3928571428571, 67.94999999999993, 'gini = 0.0\\nsamples = 1\\nvalue = [0, 1]'),\n",
       " Text(672.5892857142857, 475.65, 'X[15] <= 0.5\\ngini = 0.074\\nsamples = 155\\nvalue = [6, 149]'),\n",
       " Text(597.8571428571429, 339.74999999999994, 'X[30] <= 19.0\\ngini = 0.03\\nsamples = 131\\nvalue = [2, 129]'),\n",
       " Text(538.0714285714286, 203.8499999999999, 'X[27] <= 3.5\\ngini = 0.015\\nsamples = 129\\nvalue = [1, 128]'),\n",
       " Text(508.17857142857144, 67.94999999999993, 'gini = 0.0\\nsamples = 121\\nvalue = [0, 121]'),\n",
       " Text(567.9642857142857, 67.94999999999993, 'gini = 0.219\\nsamples = 8\\nvalue = [1, 7]'),\n",
       " Text(657.6428571428571, 203.8499999999999, 'X[30] <= 23.0\\ngini = 0.5\\nsamples = 2\\nvalue = [1, 1]'),\n",
       " Text(627.75, 67.94999999999993, 'gini = 0.0\\nsamples = 1\\nvalue = [1, 0]'),\n",
       " Text(687.5357142857142, 67.94999999999993, 'gini = 0.0\\nsamples = 1\\nvalue = [0, 1]'),\n",
       " Text(747.3214285714286, 339.74999999999994, 'X[24] <= 2.0\\ngini = 0.278\\nsamples = 24\\nvalue = [4, 20]'),\n",
       " Text(717.4285714285714, 203.8499999999999, 'gini = 0.0\\nsamples = 1\\nvalue = [1, 0]'),\n",
       " Text(777.2142857142857, 203.8499999999999, 'X[11] <= 0.5\\ngini = 0.227\\nsamples = 23\\nvalue = [3, 20]'),\n",
       " Text(747.3214285714286, 67.94999999999993, 'gini = 0.0\\nsamples = 1\\nvalue = [1, 0]'),\n",
       " Text(807.1071428571429, 67.94999999999993, 'gini = 0.165\\nsamples = 22\\nvalue = [2, 20]'),\n",
       " Text(762.2678571428571, 611.55, 'X[30] <= 1.0\\ngini = 0.48\\nsamples = 5\\nvalue = [3, 2]'),\n",
       " Text(732.375, 475.65, 'gini = 0.0\\nsamples = 3\\nvalue = [3, 0]'),\n",
       " Text(792.1607142857142, 475.65, 'gini = 0.0\\nsamples = 2\\nvalue = [0, 2]')]"
      ]
     },
     "execution_count": 33,
     "metadata": {},
     "output_type": "execute_result"
    },
    {
     "data": {
      "image/png": "[encoded data removed]",
      "text/plain": [
       "<Figure size 1080x1080 with 1 Axes>"
      ]
     },
     "metadata": {
      "needs_background": "light"
     },
     "output_type": "display_data"
    }
   ],
   "source": [
    "from sklearn import tree\n",
    "fig= plt.figure(figsize=(15,15))\n",
    "tree.plot_tree(svc_treeG3, filled=True)"
   ]
  },
  {
   "cell_type": "markdown",
   "metadata": {},
   "source": [
    "Рисунок дерева здесь некрасивый и маленький, но изображение можно скачать, там можно все разглядеть!"
   ]
  },
  {
   "cell_type": "markdown",
   "metadata": {},
   "source": [
    "## Задача многоклассовой классификации"
   ]
  },
  {
   "cell_type": "markdown",
   "metadata": {},
   "source": [
    "так же, как и в задаче бинарной классификации, прежде всего необходим новый признак, основанный на G1"
   ]
  },
  {
   "cell_type": "code",
   "execution_count": 38,
   "metadata": {},
   "outputs": [],
   "source": [
    "data1.loc[data1['G3'] < 8, 'G_4'] = int(0)\n",
    "data1.loc[(data1['G3'] >= 8) & (data1['G3'] <= 13), 'G_4'] = int(1)\n",
    "data1.loc[(data1['G3'] >= 14) & (data1['G3'] <= 17), 'G_4'] = int(2)\n",
    "data1.loc[(data1['G3'] >= 18) & (data1['G3'] <= 20), 'G_4'] = int(3)"
   ]
  },
  {
   "cell_type": "code",
   "execution_count": 40,
   "metadata": {},
   "outputs": [
    {
     "name": "stdout",
     "output_type": "stream",
     "text": [
      "2       1.0\n",
      "3       2.0\n",
      "8       0.0\n",
      "11      2.0\n",
      "13      1.0\n",
      "14      0.0\n",
      "16      1.0\n",
      "17      1.0\n",
      "18      1.0\n",
      "19      1.0\n",
      "21      2.0\n",
      "22      2.0\n",
      "24      1.0\n",
      "26      1.0\n",
      "28      2.0\n",
      "29      1.0\n",
      "30      1.0\n",
      "32      2.0\n",
      "39      1.0\n",
      "40      2.0\n",
      "47      1.0\n",
      "48      1.0\n",
      "50      1.0\n",
      "56      1.0\n",
      "59      2.0\n",
      "64      2.0\n",
      "69      2.0\n",
      "73      1.0\n",
      "76      2.0\n",
      "79      1.0\n",
      "       ... \n",
      "942     1.0\n",
      "943     1.0\n",
      "945     2.0\n",
      "948     1.0\n",
      "949     1.0\n",
      "952     0.0\n",
      "954     2.0\n",
      "955     1.0\n",
      "956     0.0\n",
      "957     2.0\n",
      "960     1.0\n",
      "962     2.0\n",
      "963     2.0\n",
      "964     1.0\n",
      "978     0.0\n",
      "981     1.0\n",
      "982     2.0\n",
      "986     2.0\n",
      "993     1.0\n",
      "997     1.0\n",
      "1003    1.0\n",
      "1005    1.0\n",
      "1006    1.0\n",
      "1010    2.0\n",
      "1016    1.0\n",
      "1019    0.0\n",
      "1024    2.0\n",
      "1025    2.0\n",
      "1040    1.0\n",
      "1041    3.0\n",
      "Name: G_4, Length: 339, dtype: float64\n"
     ]
    }
   ],
   "source": [
    "print(data1['G_4'])"
   ]
  },
  {
   "cell_type": "code",
   "execution_count": 41,
   "metadata": {},
   "outputs": [],
   "source": [
    "y_G4 = data1['G_4']\n",
    "X_G4 = data1[features_name_G1]\n",
    "train_XG4, val_XG4, train_yG4, val_yG4 = train_test_split(X_G4, y_G4, random_state = 43)"
   ]
  },
  {
   "cell_type": "code",
   "execution_count": 45,
   "metadata": {},
   "outputs": [],
   "source": [
    "svc_treeG4 = DecisionTreeClassifier(max_leaf_nodes=5, random_state=43)\n",
    "rfcG4 = AdaBoostClassifier(base_estimator=svc_treeG4, learning_rate=0.00001, random_state=43)\n",
    "rfcG4.fit(train_XG4, train_yG4)\n",
    "predict_ADAG4 = rfcG4.predict(val_XG4)"
   ]
  },
  {
   "cell_type": "code",
   "execution_count": 46,
   "metadata": {},
   "outputs": [
    {
     "name": "stdout",
     "output_type": "stream",
     "text": [
      "0.6\n",
      "0.5647058823529412\n"
     ]
    }
   ],
   "source": [
    "print(f1_score(val_yG4, predict_ADAG4, average='micro'))\n",
    "svc_treeG4 = DecisionTreeClassifier(max_depth=5, random_state=43)\n",
    "svc_treeG4.fit(train_XG4, train_yG4)\n",
    "predict_svc_treeG4 = svc_treeG4.predict(val_XG4)\n",
    "print(f1_score(val_yG4, predict_svc_treeG4, average='micro'))"
   ]
  },
  {
   "cell_type": "code",
   "execution_count": 47,
   "metadata": {},
   "outputs": [
    {
     "name": "stdout",
     "output_type": "stream",
     "text": [
      "0.6352941176470588\n",
      "0.5882352941176471\n",
      "0.5176470588235295\n",
      "0.5647058823529412\n",
      "0.49411764705882355\n",
      "0.4588235294117647\n",
      "0.4823529411764706\n",
      "0.4823529411764706\n"
     ]
    }
   ],
   "source": [
    "for i in [2,3,4,5,6,10,15,25]:\n",
    "    svc_treeG4 = DecisionTreeClassifier(max_depth=i, random_state=43)\n",
    "    svc_treeG4.fit(train_XG4, train_yG4)\n",
    "    predict_svc_treeG4 = svc_treeG4.predict(val_XG4)\n",
    "    print(f1_score(val_yG4, predict_svc_treeG4, average='micro'))"
   ]
  },
  {
   "cell_type": "markdown",
   "metadata": {},
   "source": [
    "Как видно из первого цикла for в этой программе, чем меньше глубина дерева - тем точнее получается модель"
   ]
  },
  {
   "cell_type": "markdown",
   "metadata": {},
   "source": [
    "Все дело в том, что параметров здесь не так много, поэтому при наращивании глубины дерева, после какого-то момента модель перестает находить какие-то закономерности, а просто \"подгоняет\" данные под ответ"
   ]
  }
 ],
 "metadata": {
  "kernelspec": {
   "display_name": "Python 3",
   "language": "python",
   "name": "python3"
  },
  "language_info": {
   "codemirror_mode": {
    "name": "ipython",
    "version": 3
   },
   "file_extension": ".py",
   "mimetype": "text/x-python",
   "name": "python",
   "nbconvert_exporter": "python",
   "pygments_lexer": "ipython3",
   "version": "3.7.0"
  }
 },
 "nbformat": 4,
 "nbformat_minor": 2
}